{
 "cells": [
  {
   "cell_type": "code",
   "execution_count": 1,
   "metadata": {
    "collapsed": true,
    "deletable": true,
    "editable": true
   },
   "outputs": [],
   "source": [
    "import pandas as pd\n",
    "import numpy as np\n",
    "import seaborn as sns\n",
    "import cv2\n",
    "import sklearn\n",
    "import pickle\n",
    "%matplotlib inline"
   ]
  },
  {
   "cell_type": "markdown",
   "metadata": {
    "deletable": true,
    "editable": true
   },
   "source": [
    "### Data pre processing"
   ]
  },
  {
   "cell_type": "code",
   "execution_count": 2,
   "metadata": {
    "collapsed": false,
    "deletable": true,
    "editable": true
   },
   "outputs": [
    {
     "name": "stdout",
     "output_type": "stream",
     "text": [
      "Sam\n",
      "Nor\n",
      "Rev\n",
      "Tra\n"
     ]
    },
    {
     "data": {
      "text/plain": [
       "\"\\n#plotting histogram of steering angles\\n    sns.distplot(df.s_angle, bins=20,kde=False, color='green')\\n    print(df.s_angle.value_counts(bins=20, sort=False))\\n\""
      ]
     },
     "execution_count": 2,
     "metadata": {},
     "output_type": "execute_result"
    }
   ],
   "source": [
    "xy_tup = []\n",
    "graph_dat = []\n",
    "\n",
    "def data_sum(name):\n",
    "    #reading the data\n",
    "    col_names = ['Ctr','Lt','Rt','s_angle','throttle','break','speed']\n",
    "    df = pd.read_csv('Data/'+name+'_Data/driving_log.csv', header=None, names=col_names)\n",
    "    #print(len(df))\n",
    "    #print(df.s_angle.value_counts(bins=20, sort=False))\n",
    "    \n",
    "    for i in range(len(df.index)):\n",
    "        angle = df['s_angle'][i]\n",
    "        \n",
    "        if name == 'Sam' or angle != 0:\n",
    "            #update to new address\n",
    "            source_path = df['Ctr'][i]\n",
    "            filename = source_path.split('/')[-1]\n",
    "            current_path = 'Data/'+name+'_Data/IMG/'+filename #New_path = '../data/IMG/'\n",
    "\n",
    "            image = cv2.imread(current_path)\n",
    "            tuple_temp = (image,angle)\n",
    "            xy_tup.append(tuple_temp)\n",
    "            graph_dat.append(angle)\n",
    "            if angle !=0:\n",
    "                tuple_temp_inv = (np.fliplr(image),-angle)\n",
    "                xy_tup.append(tuple_temp_inv)\n",
    "                graph_dat.append(-angle)\n",
    "\n",
    "\n",
    "names = ['Sam','Nor','Rev','Tra']\n",
    "for nam in names:\n",
    "    print(nam)\n",
    "    data_sum(nam)\n",
    "\n",
    "'''\n",
    "#plotting histogram of steering angles\n",
    "    sns.distplot(df.s_angle, bins=20,kde=False, color='green')\n",
    "    print(df.s_angle.value_counts(bins=20, sort=False))\n",
    "'''"
   ]
  },
  {
   "cell_type": "code",
   "execution_count": 12,
   "metadata": {
    "collapsed": false,
    "deletable": true,
    "editable": true
   },
   "outputs": [
    {
     "name": "stdout",
     "output_type": "stream",
     "text": [
      "0.0\n"
     ]
    }
   ],
   "source": [
    "#sns.distplot(graph_dat, bins=20,kde=False, color='green')\n",
    "print(xy_tup[0][1])"
   ]
  },
  {
   "cell_type": "code",
   "execution_count": 13,
   "metadata": {
    "collapsed": false,
    "deletable": true,
    "editable": true
   },
   "outputs": [],
   "source": [
    "xy_tup = np.array(xy_tup)\n",
    "\n",
    "with open('final_data.pickle', 'wb') as filef:\n",
    "    pickle.dump(xy_tup, filef)"
   ]
  },
  {
   "cell_type": "markdown",
   "metadata": {
    "deletable": true,
    "editable": true
   },
   "source": [
    "### Testing traing split"
   ]
  },
  {
   "cell_type": "code",
   "execution_count": 5,
   "metadata": {
    "collapsed": true,
    "deletable": true,
    "editable": true
   },
   "outputs": [],
   "source": [
    "from sklearn.model_selection import train_test_split\n",
    "train_samples, validation_samples = train_test_split(xy_tup, test_size=0.2)"
   ]
  },
  {
   "cell_type": "markdown",
   "metadata": {
    "deletable": true,
    "editable": true
   },
   "source": [
    "### Generator for data"
   ]
  },
  {
   "cell_type": "code",
   "execution_count": 6,
   "metadata": {
    "collapsed": false,
    "deletable": true,
    "editable": true
   },
   "outputs": [],
   "source": [
    "def generator(samples, batch_size=32):\n",
    "    num_samples = len(samples)\n",
    "    while 1: # Loop forever so the generator never terminates\n",
    "        shuffle(samples)\n",
    "        for offset in range(0, num_samples, batch_size):\n",
    "            batch_samples = samples[offset:offset+batch_size]\n",
    "\n",
    "            images = []\n",
    "            angles = []\n",
    "            for batch_sample in batch_samples:\n",
    "                center_image = batch_sample[0]\n",
    "                center_angle = batch_sample[1]\n",
    "                images.append(center_image)\n",
    "                angles.append(center_angle)\n",
    "                \n",
    "            X_train = np.array(images) \n",
    "            y_train = np.array(angles)\n",
    "            yield sklearn.utils.shuffle(X_train, y_train)\n",
    "            \n",
    "# compile and train the model using the generator function\n",
    "train_generator = generator(train_samples, batch_size=32)\n",
    "validation_generator = generator(validation_samples, batch_size=32)"
   ]
  },
  {
   "cell_type": "code",
   "execution_count": 7,
   "metadata": {
    "collapsed": false,
    "deletable": true,
    "editable": true
   },
   "outputs": [
    {
     "name": "stderr",
     "output_type": "stream",
     "text": [
      "Using TensorFlow backend.\n"
     ]
    }
   ],
   "source": [
    "import keras\n",
    "\n",
    "from keras.models import Sequential\n",
    "from keras.layers import Lambda, Cropping2D\n",
    "from keras.layers.core import Dense, Activation, Flatten, Dropout\n",
    "\n",
    "from keras.layers.convolutional import Convolution2D\n",
    "from keras.layers.pooling import MaxPooling2D"
   ]
  },
  {
   "cell_type": "markdown",
   "metadata": {
    "deletable": true,
    "editable": true
   },
   "source": [
    "### Architecture"
   ]
  },
  {
   "cell_type": "code",
   "execution_count": 8,
   "metadata": {
    "collapsed": false,
    "deletable": true,
    "editable": true
   },
   "outputs": [],
   "source": [
    "model = Sequential()\n",
    "\n",
    "'''50 rows pixels from the top of the image, 20 rows pixels from the bottom of the image,0 columns of pixels\n",
    "from the left of the image 0 columns of pixels from the right of the image are cropped'''\n",
    "model.add(Cropping2D(cropping=((50,20), (0,0)), input_shape=(160,320,3)))\n",
    "\n",
    "#Adding lambda layer that normalizes and mean centers the image\n",
    "model.add(Lambda(lambda x: (x / 255.0) - 0.5))\n",
    "\n",
    "#convolutional layers\n",
    "\"Layer-1\"\n",
    "model.add(Convolution2D(32,5,5, subsample=(2,2), border_mode='valid')) #subsample means stride\n",
    "#2x2 max-pooling layer\n",
    "model.add(MaxPooling2D((2, 2))) #by default it is a valid padding\n",
    "model.add(Activation('relu'))\n",
    "#Dropout layer\n",
    "model.add(Dropout(0.5))\n",
    "\n",
    "\"Layer-2\"\n",
    "model.add(Convolution2D(64,3,3, subsample=(2,2), border_mode='valid'))\n",
    "#2x2 max-pooling layer\n",
    "model.add(MaxPooling2D((2, 2)))\n",
    "model.add(Activation('relu'))\n",
    "#Dropout layer\n",
    "model.add(Dropout(0.5))\n",
    "\n",
    "\"Layer-3\"\n",
    "model.add(Convolution2D(96,2,2, border_mode='valid')) #stride by default is (1,1)\n",
    "#2x2 max-pooling layer\n",
    "model.add(MaxPooling2D((2, 2)))\n",
    "model.add(Activation('relu'))\n",
    "#Dropout layer\n",
    "model.add(Dropout(0.5))\n",
    "\n",
    "#flattening the layer\n",
    "model.add(Flatten())\n",
    "\n",
    "\"Vanilla neural network\"\n",
    "model.add(Dense(610))\n",
    "model.add(Activation('relu'))\n",
    "\n",
    "model.add(Dense(377))\n",
    "model.add(Activation('relu'))\n",
    "\n",
    "model.add(Dense(233))\n",
    "model.add(Activation('relu'))\n",
    "\n",
    "model.add(Dense(144))\n",
    "model.add(Activation('relu'))\n",
    "\n",
    "model.add(Dense(89))\n",
    "model.add(Activation('relu'))\n",
    "\n",
    "model.add(Dense(55))\n",
    "model.add(Activation('relu'))\n",
    "\n",
    "model.add(Dense(34))\n",
    "model.add(Activation('relu'))\n",
    "\n",
    "model.add(Dense(21))\n",
    "model.add(Activation('relu'))\n",
    "\n",
    "model.add(Dense(13))\n",
    "model.add(Activation('relu'))\n",
    "\n",
    "model.add(Dense(8))\n",
    "model.add(Activation('relu'))\n",
    "\n",
    "model.add(Dense(1))\n",
    "\n",
    "model.compile(optimizer='adam', loss='mse', metrics=['accuracy'])\n",
    "\n",
    "#model.fit(X,Y, batch_size=100, epochs=1, validation_split=0.2, verbose=1)\n",
    "\n",
    "hist_obj = model.fit_generator(train_generator, samples_per_epoch= len(train_samples), \n",
    "                    /validation_data=validation_generator,nb_val_samples=len(validation_samples), \n",
    "                     /nb_epoch=3, verbose=1)\n",
    "\n",
    "model.save(model.h5)"
   ]
  },
  {
   "cell_type": "code",
   "execution_count": null,
   "metadata": {
    "collapsed": true,
    "deletable": true,
    "editable": true
   },
   "outputs": [],
   "source": []
  }
 ],
 "metadata": {
  "kernelspec": {
   "display_name": "Python 3",
   "language": "python",
   "name": "python3"
  },
  "language_info": {
   "codemirror_mode": {
    "name": "ipython",
    "version": 3
   },
   "file_extension": ".py",
   "mimetype": "text/x-python",
   "name": "python",
   "nbconvert_exporter": "python",
   "pygments_lexer": "ipython3",
   "version": "3.5.2"
  },
  "widgets": {
   "state": {},
   "version": "1.1.2"
  }
 },
 "nbformat": 4,
 "nbformat_minor": 2
}
